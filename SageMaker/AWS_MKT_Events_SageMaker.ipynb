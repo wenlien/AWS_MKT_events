{
 "cells": [
  {
   "cell_type": "code",
   "execution_count": null,
   "id": "91bac0b7",
   "metadata": {},
   "outputs": [],
   "source": [
    "! pip install update\n",
    "import requests\n",
    "import pandas as pd"
   ]
  },
  {
   "cell_type": "code",
   "execution_count": null,
   "id": "8947bf0f",
   "metadata": {},
   "outputs": [],
   "source": [
    "df = pd.read_csv('students.csv', dtype={\n",
    "    'firstname': 'string',\n",
    "    'lasttname': 'string',\n",
    "    'age': 'int64',\n",
    "    'chinese': 'float64',\n",
    "    'english': 'float64',\n",
    "    'math': 'float64',\n",
    "})"
   ]
  },
  {
   "cell_type": "code",
   "execution_count": null,
   "id": "e23387e6",
   "metadata": {},
   "outputs": [],
   "source": [
    "print(df.columns)\n",
    "print('-' * 72)\n",
    "print(df.head(1))\n",
    "print('-' * 72)\n",
    "print(df)\n",
    "print('-' * 72)\n",
    "df.describe()"
   ]
  },
  {
   "cell_type": "code",
   "execution_count": null,
   "id": "5fe8c3b8",
   "metadata": {},
   "outputs": [],
   "source": [
    "print(type(df))\n",
    "print(df.columns)\n",
    "ser = df.iloc[0]\n",
    "ser.iloc[0]\n",
    "df.iloc[0].iloc[1]"
   ]
  },
  {
   "cell_type": "code",
   "execution_count": null,
   "id": "74a659b0",
   "metadata": {},
   "outputs": [],
   "source": [
    "# ser = df.get('age')\n",
    "# df.max()\n",
    "print(df)\n",
    "idx_max_age = df['age'].idxmax()\n",
    "idx_max_chinese = df['chinese'].idxmax()\n",
    "idx_max_english = df['english'].idxmax()\n",
    "idx_max_math = df['math'].idxmax()\n",
    "\n",
    "print(f'''\n",
    "max age of student: {df.iloc[idx_max_age].firstname} {df.iloc[idx_max_age].lastname}\n",
    "max chinese of student: {df.iloc[idx_max_chinese].firstname} {df.iloc[idx_max_chinese].lastname}\n",
    "max english of student: {df.iloc[idx_max_english].firstname} {df.iloc[idx_max_english].lastname}\n",
    "max math of student: {df.iloc[idx_max_math].firstname} {df.iloc[idx_max_math].lastname}\n",
    "''')"
   ]
  },
  {
   "cell_type": "code",
   "execution_count": null,
   "id": "be8957c7",
   "metadata": {},
   "outputs": [],
   "source": []
  }
 ],
 "metadata": {
  "kernelspec": {
   "display_name": "conda_python3",
   "language": "python",
   "name": "conda_python3"
  },
  "language_info": {
   "codemirror_mode": {
    "name": "ipython",
    "version": 3
   },
   "file_extension": ".py",
   "mimetype": "text/x-python",
   "name": "python",
   "nbconvert_exporter": "python",
   "pygments_lexer": "ipython3",
   "version": "3.10.13"
  }
 },
 "nbformat": 4,
 "nbformat_minor": 5
}
