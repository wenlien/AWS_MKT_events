{
 "cells": [
  {
   "cell_type": "code",
   "execution_count": null,
   "id": "91bac0b7",
   "metadata": {},
   "outputs": [],
   "source": [
    "# Update current packages\n",
    "! pip install update\n",
    "\n",
    "# Import requests and pandas packages\n",
    "import requests\n",
    "import pandas as pd"
   ]
  },
  {
   "cell_type": "code",
   "execution_count": null,
   "id": "8947bf0f",
   "metadata": {},
   "outputs": [],
   "source": [
    "df = pd.read_csv('students.csv', dtype={\n",
    "    'firstname': 'string',\n",
    "    'lasttname': 'string',\n",
    "    'age': 'int64',\n",
    "    'chinese': 'float64',\n",
    "    'english': 'float64',\n",
    "    'math': 'float64',\n",
    "})"
   ]
  },
  {
   "cell_type": "code",
   "execution_count": null,
   "id": "e23387e6",
   "metadata": {},
   "outputs": [],
   "source": [
    "# Display columns of dataframe\n",
    "print(df.columns)\n",
    "print('-' * 72)\n",
    "# Display first 3 records\n",
    "print(df.head(3))\n",
    "print('-' * 72)\n",
    "# Display data of dataframe\n",
    "print(df)\n",
    "print('-' * 72)\n",
    "# Display statistic data of dataframe\n",
    "df.describe()"
   ]
  },
  {
   "cell_type": "code",
   "execution_count": null,
   "id": "74a659b0",
   "metadata": {},
   "outputs": [],
   "source": [
    "idx_max_age = df['age'].idxmax()  # get idx with max value of column \"age\"\n",
    "idx_max_chinese = df['chinese'].idxmax()  # get idx with max value of column \"chinese\"\n",
    "idx_max_english = df['english'].idxmax()  # get idx with max value of column \"english\"\n",
    "idx_max_math = df['math'].idxmax()  # get idx with max value of column \"math\"\n",
    "\n",
    "# Display the student with max value of each column\n",
    "print(f'''\n",
    "max age of student: {df.iloc[idx_max_age].firstname} {df.iloc[idx_max_age].lastname}\n",
    "max chinese of student: {df.iloc[idx_max_chinese].firstname} {df.iloc[idx_max_chinese].lastname}\n",
    "max english of student: {df.iloc[idx_max_english].firstname} {df.iloc[idx_max_english].lastname}\n",
    "max math of student: {df.iloc[idx_max_math].firstname} {df.iloc[idx_max_math].lastname}\n",
    "''')"
   ]
  },
  {
   "cell_type": "code",
   "execution_count": null,
   "id": "be8957c7",
   "metadata": {},
   "outputs": [],
   "source": []
  }
 ],
 "metadata": {
  "kernelspec": {
   "display_name": "conda_python3",
   "language": "python",
   "name": "conda_python3"
  },
  "language_info": {
   "codemirror_mode": {
    "name": "ipython",
    "version": 3
   },
   "file_extension": ".py",
   "mimetype": "text/x-python",
   "name": "python",
   "nbconvert_exporter": "python",
   "pygments_lexer": "ipython3",
   "version": "3.10.13"
  }
 },
 "nbformat": 4,
 "nbformat_minor": 5
}
