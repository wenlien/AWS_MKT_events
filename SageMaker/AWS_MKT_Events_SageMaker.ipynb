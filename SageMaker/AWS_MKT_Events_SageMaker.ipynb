{
 "cells": [
  {
   "cell_type": "code",
   "execution_count": null,
   "id": "91bac0b7",
   "metadata": {},
   "outputs": [],
   "source": [
    "# Update Python packages.\n",
    "! pip install update\n",
    "\n",
    "# Import pandas.\n",
    "import pandas as pd\n",
    "\n",
    "# Show plot immediately.\n",
    "%matplotlib inline"
   ]
  },
  {
   "cell_type": "code",
   "execution_count": null,
   "id": "8947bf0f",
   "metadata": {},
   "outputs": [],
   "source": [
    "# Read CSV file.\n",
    "df = pd.read_csv('students.csv', dtype={\n",
    "    'firstname': 'string',\n",
    "    'lasttname': 'string',\n",
    "    'age': 'int64',\n",
    "    'chinese': 'float64',\n",
    "    'english': 'float64',\n",
    "    'math': 'float64',\n",
    "})\n",
    "\n",
    "# Shape of data frame.\n",
    "print(df.shape)\n",
    "print('-' * 72)\n",
    "\n",
    "# Display columns of dataframe.\n",
    "print(df.columns)\n",
    "print('-' * 72)\n",
    "\n",
    "# Display first 3 records.\n",
    "print(df.head(3))\n",
    "print('-' * 72)\n",
    "\n",
    "# Display data of dataframe.\n",
    "print(df)\n",
    "print('-' * 72)\n",
    "\n",
    "# Display statistic data of dataframe.\n",
    "df.describe()"
   ]
  },
  {
   "cell_type": "code",
   "execution_count": null,
   "id": "74a659b0",
   "metadata": {},
   "outputs": [],
   "source": [
    "idx_max_age = df['age'].idxmax()  # get idx with max value of column \"age\".\n",
    "idx_max_chinese = df['chinese'].idxmax()  # get idx with max value of column \"chinese\".\n",
    "idx_max_english = df['english'].idxmax()  # get idx with max value of column \"english\".\n",
    "idx_max_math = df['math'].idxmax()  # get idx with max value of column \"math\".\n",
    "\n",
    "# Display the student with max value of each column.\n",
    "print(f'''\n",
    "max age of student: {df.iloc[idx_max_age].firstname} {df.iloc[idx_max_age].lastname}\n",
    "max chinese of student: {df.iloc[idx_max_chinese].firstname} {df.iloc[idx_max_chinese].lastname}\n",
    "max english of student: {df.iloc[idx_max_english].firstname} {df.iloc[idx_max_english].lastname}\n",
    "max math of student: {df.iloc[idx_max_math].firstname} {df.iloc[idx_max_math].lastname}\n",
    "''')"
   ]
  },
  {
   "cell_type": "code",
   "execution_count": null,
   "id": "4a247464",
   "metadata": {},
   "outputs": [],
   "source": [
    "# Filter with chinese age > 20.\n",
    "age_above_20 = df[df[\"age\"] > 20]\n",
    "print(age_above_20)\n",
    "print('-' * 72)\n",
    "\n",
    "# Filter with chinese score > 90.\n",
    "chinese_above_90 = df[df[\"chinese\"] > 90]\n",
    "print(chinese_above_90)\n",
    "print('-' * 72)\n",
    "\n",
    "# Filter with english score > 90.\n",
    "english_above_90 = df[df[\"english\"] > 90]\n",
    "print(english_above_90)\n",
    "print('-' * 72)\n",
    "\n",
    "# Filter with math score > 90.\n",
    "math_above_90 = df[df[\"math\"] > 90]\n",
    "print(math_above_90)"
   ]
  },
  {
   "cell_type": "code",
   "execution_count": null,
   "id": "43882952",
   "metadata": {},
   "outputs": [],
   "source": [
    "# Display the score of students by using the bar chart.\n",
    "df.plot(x=\"firstname\", y=[\"chinese\", \"english\", \"math\"], kind=\"bar\")"
   ]
  },
  {
   "cell_type": "code",
   "execution_count": null,
   "id": "feffb1d6",
   "metadata": {},
   "outputs": [],
   "source": []
  }
 ],
 "metadata": {
  "kernelspec": {
   "display_name": "conda_python3",
   "language": "python",
   "name": "conda_python3"
  },
  "language_info": {
   "codemirror_mode": {
    "name": "ipython",
    "version": 3
   },
   "file_extension": ".py",
   "mimetype": "text/x-python",
   "name": "python",
   "nbconvert_exporter": "python",
   "pygments_lexer": "ipython3",
   "version": "3.10.13"
  }
 },
 "nbformat": 4,
 "nbformat_minor": 5
}
